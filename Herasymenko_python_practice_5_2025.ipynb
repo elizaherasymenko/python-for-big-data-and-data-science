{
  "nbformat": 4,
  "nbformat_minor": 0,
  "metadata": {
    "colab": {
      "provenance": [],
      "include_colab_link": true
    },
    "kernelspec": {
      "name": "python3",
      "display_name": "Python 3"
    },
    "language_info": {
      "name": "python"
    }
  },
  "cells": [
    {
      "cell_type": "markdown",
      "metadata": {
        "id": "view-in-github",
        "colab_type": "text"
      },
      "source": [
        "<a href=\"https://colab.research.google.com/github/elizaherasymenko/python-for-big-data-and-data-science/blob/main/Herasymenko_python_practice_5_2025.ipynb\" target=\"_parent\"><img src=\"https://colab.research.google.com/assets/colab-badge.svg\" alt=\"Open In Colab\"/></a>"
      ]
    },
    {
      "cell_type": "markdown",
      "source": [
        "# I. OOP"
      ],
      "metadata": {
        "id": "5qV_sehzFCTp"
      }
    },
    {
      "cell_type": "markdown",
      "source": [
        "1. (6б). Створіть клас Building, додайте три атрибути, один з яких має значення за замовчуванням та два методи на свій розсуд."
      ],
      "metadata": {
        "id": "tx_U_hOALyfg"
      }
    },
    {
      "cell_type": "code",
      "source": [
        "class Building:\n",
        "    def __init__(self, name, height, material=\"Concrete\"):\n",
        "        self.name = name\n",
        "        self.height = height\n",
        "        self.material = material\n",
        "\n",
        "    def display_info(self):\n",
        "        print(f\"Building Name: {self.name}\")\n",
        "        print(f\"Height: {self.height} meters\")\n",
        "        print(f\"Material: {self.material}\")\n",
        "\n",
        "    def change_height(self, new_height):\n",
        "        if new_height > 0:\n",
        "            self.height = new_height\n",
        "            print(f\"The height of '{self.name}' has been updated to {self.height} meters.\")\n",
        "        else:\n",
        "            print(\"Error: Height must be a positive value.\")"
      ],
      "metadata": {
        "id": "-Vf895KaL88N"
      },
      "execution_count": null,
      "outputs": []
    },
    {
      "cell_type": "markdown",
      "source": [
        "2. (2б). Створіть два обʼєкти цього класу, де один з обʼєктів створюється із дефолтним значенням атрибуту. На одному обʼєкті отримайте значення його атрибуту, а на іншому викличте один з його методів."
      ],
      "metadata": {
        "id": "X_UlOMB0L93w"
      }
    },
    {
      "cell_type": "code",
      "source": [
        "building1 = Building(\"Taryan Tower\", 200)\n",
        "building2 = Building(\"Zlata\", 10, \"Wood\")\n",
        "print(f\"Material of {building1.name}: {building1.material}\")\n",
        "\n",
        "building2.display_info()"
      ],
      "metadata": {
        "id": "7gBu0ESOMCpG",
        "colab": {
          "base_uri": "https://localhost:8080/"
        },
        "outputId": "f3ca18d4-2ab8-42ef-8dc5-1ef4ea72e085"
      },
      "execution_count": null,
      "outputs": [
        {
          "output_type": "stream",
          "name": "stdout",
          "text": [
            "Material of Taryan Tower: Concrete\n",
            "Building Name: Zlata\n",
            "Height: 10 meters\n",
            "Material: Wood\n"
          ]
        }
      ]
    },
    {
      "cell_type": "markdown",
      "source": [
        "3. (5б). Створіть клас, де атрибути мають різні рівні доступу. Спробуйте отримати їхні значення та опишіть результати."
      ],
      "metadata": {
        "id": "HoqSCZt1MHn5"
      }
    },
    {
      "cell_type": "code",
      "source": [
        "class Student:\n",
        "    def __init__(self, name, age, grade):\n",
        "        self.name = name\n",
        "        self._age = age\n",
        "        self.__grade = grade\n",
        "\n",
        "# Public method to access the private attribute\n",
        "    def get_grade(self):\n",
        "        return self.__grade\n",
        "\n",
        "student1 = Student(\"Liza\", 20, 100)\n",
        "print(student1.name)\n",
        "print(student1._age)\n",
        "print(student1.get_grade())"
      ],
      "metadata": {
        "id": "r9b3vJxBMSPV",
        "colab": {
          "base_uri": "https://localhost:8080/"
        },
        "outputId": "befde5ea-1474-4b2f-85f4-1a3aad50c998"
      },
      "execution_count": null,
      "outputs": [
        {
          "output_type": "stream",
          "name": "stdout",
          "text": [
            "Liza\n",
            "20\n",
            "100\n"
          ]
        }
      ]
    },
    {
      "cell_type": "markdown",
      "source": [
        "Public атрибути можна використовувати без обмежень. Protected атрибути можна читати напряму, але це не рекомендується.\n",
        "Private атрибути захищені від прямого доступу, але можуть бути доступні через гетери/сетери, а також через name mangling."
      ],
      "metadata": {
        "id": "s28WR7sbso6s"
      }
    },
    {
      "cell_type": "markdown",
      "source": [
        "4. (7б). Як ви розумієте термін self? Для чого використовується метод __init __?"
      ],
      "metadata": {
        "id": "5op2m2vgMSkZ"
      }
    },
    {
      "cell_type": "markdown",
      "source": [
        "Термін 'self' використовується для посилання на поточний екземпляр класу. В аргументах методу 'self' на першому місці, що дозволяє отримувати доступ до атрибутів та інших методів саме цього об'єкта. Спеціальний метод 'init' використовується для ініціалізації нового об'єкта певного класу. Він дозволяє задати початкові значення атрибутів об'єкта при його створенні.\n",
        "\n",
        "\n"
      ],
      "metadata": {
        "id": "DyiPqNRvMasx"
      }
    },
    {
      "cell_type": "markdown",
      "source": [
        "5. (9б). Створіть клас 3D-фігура без атрибутів, з методом get_volume для отримання об'єму фігури, що повертає 0 та __add __, який приймає self та other в якості аргументів, а повертає суму об'ємів 3d-фігур self та other."
      ],
      "metadata": {
        "id": "-6X8EGfjMd2y"
      }
    },
    {
      "cell_type": "code",
      "source": [
        "class ThreeDFigure:\n",
        "    def get_volume(self):\n",
        "        return 0\n",
        "\n",
        "    def __add__(self, other):\n",
        "        if isinstance(other, ThreeDFigure):\n",
        "            return self.get_volume() + other.get_volume()\n",
        "        raise TypeError(\"Error. Only objects of class ThreeDFigure can be added\")\n"
      ],
      "metadata": {
        "id": "4rvO_wYUMaEr"
      },
      "execution_count": null,
      "outputs": []
    },
    {
      "cell_type": "markdown",
      "source": [
        "6. (11б). Створіть 2 дочірніх класи від 3d-фігура: Циліндр та Куб, які мають атрибути, необхідні для розрахунку об'єму. Визначте метод get_volume в кожному з них так, щоби вони розраховували об'єм у залежності від формули для кожного типу фігури. Створіть обʼєкт класу Циліндр та обʼєкт класу Куб. Виконайте операцію суми за допомогою оператора + між ними, аби знайти сумарний об'єм."
      ],
      "metadata": {
        "id": "SFcKnnv5Mo_z"
      }
    },
    {
      "cell_type": "code",
      "source": [
        "import math\n",
        "\n",
        "class Cube(ThreeDFigure):\n",
        "    def __init__(self, side):\n",
        "        self.side = side\n",
        "\n",
        "    def get_volume(self):\n",
        "        area = self.side ** 3\n",
        "        return area\n",
        "\n",
        "\n",
        "class Cylinder(ThreeDFigure):\n",
        "    def __init__(self, radius, height):\n",
        "        self.radius = radius\n",
        "        self.height = height\n",
        "\n",
        "    def get_volume(self):\n",
        "        area = math.pi * (self.radius ** 2) * self.height\n",
        "        return area\n",
        "\n",
        "\n",
        "cube = Cube(4)\n",
        "cylinder = Cylinder(3, 5)\n",
        "\n",
        "sum_volume = cube + cylinder\n",
        "\n",
        "print(f\"Cube volume: {cube.get_volume():.2f}\")\n",
        "print(f\"Cylinder volume: {cylinder.get_volume():.2f}\")\n",
        "print(f\"Total volume (Cube + Cylinder): {sum_volume:.2f}\")\n"
      ],
      "metadata": {
        "id": "H3GVNr69Muf3",
        "colab": {
          "base_uri": "https://localhost:8080/"
        },
        "outputId": "62ec60e5-fc44-4940-9510-d2efea688631"
      },
      "execution_count": null,
      "outputs": [
        {
          "output_type": "stream",
          "name": "stdout",
          "text": [
            "Cube volume: 64.00\n",
            "Cylinder volume: 141.37\n",
            "Total volume (Cube + Cylinder): 205.37\n"
          ]
        }
      ]
    },
    {
      "cell_type": "markdown",
      "source": [
        "7. (3б). Продемонструйте різницю між isinstance та issubclass."
      ],
      "metadata": {
        "id": "HCvR206YMvLK"
      }
    },
    {
      "cell_type": "code",
      "source": [
        "# isinstance() - перевірка, чи є певний об'єкт екземпляром певного класу або його підкласу\n",
        "print(isinstance(cube, Cube))\n",
        "print(isinstance(cylinder, Cube))\n",
        "print(isinstance(cube, ThreeDFigure))\n",
        "\n",
        "# issubclass() - перевірка, чи є один клас підкласом іншого класу\n",
        "print(issubclass(Cylinder, ThreeDFigure))\n",
        "print(issubclass(ThreeDFigure, object))"
      ],
      "metadata": {
        "id": "L_V1bBvDM0GN",
        "colab": {
          "base_uri": "https://localhost:8080/"
        },
        "outputId": "76d26f9e-6554-4819-aaac-481118dc02b3"
      },
      "execution_count": null,
      "outputs": [
        {
          "output_type": "stream",
          "name": "stdout",
          "text": [
            "True\n",
            "False\n",
            "True\n",
            "True\n",
            "True\n"
          ]
        }
      ]
    },
    {
      "cell_type": "markdown",
      "source": [
        "8. (13б). Створіть клас EWallet з приватними атрибутами balance та id. Реалізуйте методи поповнення та зняття коштів, забезпечивши належну інкапсуляцію. Підказка: використовуйте декоратори property та setter."
      ],
      "metadata": {
        "id": "jjsaBZ-iM0Qq"
      }
    },
    {
      "cell_type": "code",
      "source": [
        "class EWallet:\n",
        "  def __init__(self, balance, id):\n",
        "    self._balance = balance\n",
        "    self.id = id\n",
        "\n",
        "  @property\n",
        "  def balance(self):\n",
        "    return self._balance\n",
        "\n",
        "  @balance.setter\n",
        "  def balance(self, new_balance):\n",
        "    if new_balance >= 0:\n",
        "      self._balance = new_balance\n",
        "    else:\n",
        "      print(\"Warning: balance should be a positive number\")\n",
        "\n",
        "  def make_deposit(self, amount):\n",
        "    if amount > 0:\n",
        "      self._balance += amount\n",
        "    else:\n",
        "      print(\"Warning: amount should be a positive number\")\n",
        "\n",
        "  def withdraw_money(self, amount):\n",
        "    if amount > 0 and amount <= self.balance:\n",
        "      self._balance -= amount\n",
        "    else:\n",
        "      print(\"Error: amount should be a positive number or there is not enough money on the EWallet\")\n",
        "\n",
        "id1 = EWallet(870, \"1234574512\")\n",
        "print(id1.balance)\n",
        "id1.make_deposit(80)\n",
        "print(id1.balance)\n",
        "id1.withdraw_money(700)\n",
        "print(id1.balance)"
      ],
      "metadata": {
        "id": "xCvZ7lh8M7YA",
        "colab": {
          "base_uri": "https://localhost:8080/"
        },
        "outputId": "7dbdc171-e0d8-43ed-8d6c-a0127b4f04e4"
      },
      "execution_count": null,
      "outputs": [
        {
          "output_type": "stream",
          "name": "stdout",
          "text": [
            "870\n",
            "950\n",
            "250\n"
          ]
        }
      ]
    },
    {
      "cell_type": "markdown",
      "source": [
        "9. (11б). Створіть клас ShoppingCart, який містить список об'єктів типу Item. Реалізуйте методи для додавання айтемів, їх видалення та відображення списку айтемів."
      ],
      "metadata": {
        "id": "tIzL2SJTM8ft"
      }
    },
    {
      "cell_type": "code",
      "source": [
        "class ShoppingCart:\n",
        "    def __init__(self, items=None):\n",
        "        self.items = items if items else []\n",
        "\n",
        "    def add_item(self, new_item):\n",
        "        if isinstance(new_item, Item):\n",
        "            self.items.append(new_item)\n",
        "            print(f'Item \"{new_item.name}\" added to the cart.')\n",
        "        else:\n",
        "            print(\"Error: Only objects of type 'Item' can be added.\")\n",
        "\n",
        "    def remove_item(self, item_name):\n",
        "        for item in self.items:\n",
        "            if item.name == item_name:\n",
        "                self.items.remove(item)\n",
        "                print(f'Item \"{item_name}\" removed from the cart.')\n",
        "                return\n",
        "        print(f'Item \"{item_name}\" was not found in the cart.')\n",
        "\n",
        "    def show_all_items(self):\n",
        "        if not self.items:\n",
        "            print(\"The shopping cart is empty.\")\n",
        "        else:\n",
        "            print(\"Shopping Cart Items:\")\n",
        "            for index, item in enumerate(self.items, start=1):\n",
        "                print(f'#{index} - {item.name}, ${item.price:.2f}, Quantity: {item.quantity}')\n",
        "\n",
        "\n",
        "class Item:\n",
        "    def __init__(self, name, price, quantity=1):\n",
        "        self.name = name\n",
        "        self.price = price\n",
        "        self.quantity = quantity\n",
        "\n",
        "\n",
        "item1 = Item('Laptop', 1200, 1)\n",
        "cart = ShoppingCart([item1])\n",
        "cart.show_all_items()\n",
        "print('=' * 50)\n",
        "\n",
        "item2 = Item('Headphones', 150, 2)\n",
        "cart.add_item(item2)\n",
        "cart.show_all_items()\n",
        "print('=' * 50)\n",
        "\n",
        "\n",
        "cart.remove_item('Smartphone') # Trying to remove an item that does not exist\n",
        "cart.remove_item('Laptop')\n",
        "cart.show_all_items()\n"
      ],
      "metadata": {
        "id": "HWxfJKLtNAUZ",
        "colab": {
          "base_uri": "https://localhost:8080/"
        },
        "outputId": "b38be601-5af9-47a5-ea20-47b431c1eb45"
      },
      "execution_count": null,
      "outputs": [
        {
          "output_type": "stream",
          "name": "stdout",
          "text": [
            "Shopping Cart Items:\n",
            "#1 - Laptop, $1200.00, Quantity: 1\n",
            "==================================================\n",
            "Item \"Headphones\" added to the cart.\n",
            "Shopping Cart Items:\n",
            "#1 - Laptop, $1200.00, Quantity: 1\n",
            "#2 - Headphones, $150.00, Quantity: 2\n",
            "==================================================\n",
            "Item \"Smartphone\" was not found in the cart.\n",
            "Item \"Laptop\" removed from the cart.\n",
            "Shopping Cart Items:\n",
            "#1 - Headphones, $150.00, Quantity: 2\n"
          ]
        }
      ]
    },
    {
      "cell_type": "markdown",
      "source": [
        "10. (13б). Створіть клас Vehicle з атрибутами brand (manufacturer) та production_age. Створіть ще один клас Engine з такими атрибутами, як type (ex. petrol) та size (volume, litres). Створіть клас Car, який успадковує обидва класи Vehicle та Engine. Продемонструйте використання множинної спадковості, створивши обʼєкт класу Car та отримавши mro для цього класу."
      ],
      "metadata": {
        "id": "lmV8pAwwNIqu"
      }
    },
    {
      "cell_type": "code",
      "source": [
        "class Vehicle:\n",
        "    def __init__(self, brand, production_age):\n",
        "        self.brand = brand\n",
        "        self.production_age = production_age\n",
        "\n",
        "class Engine:\n",
        "    def __init__(self, type, size):\n",
        "        self.type = type\n",
        "        self.size = size\n",
        "\n",
        "class Car(Vehicle, Engine):\n",
        "    def __init__(self, brand, production_age, type, size):\n",
        "        Vehicle.__init__(self, brand, production_age)\n",
        "        Engine.__init__(self, type, size)\n",
        "\n",
        "    def display_info(self):\n",
        "        return f\"Car: {self.brand}, Age: {self.production_age} years, Engine: {self.type}, {self.size}L\"\n",
        "\n",
        "car1 = Car(\"Toyota\", 5, \"petrol\", 2.0)\n",
        "print(car1.display_info())\n",
        "print(Car.mro())\n",
        "print(Car.__mro__)"
      ],
      "metadata": {
        "id": "R49grKlWNPeN",
        "colab": {
          "base_uri": "https://localhost:8080/"
        },
        "outputId": "418ed21e-83c8-440a-d8be-f74a219dfa5e"
      },
      "execution_count": null,
      "outputs": [
        {
          "output_type": "stream",
          "name": "stdout",
          "text": [
            "Car: Toyota, Age: 5 years, Engine: petrol, 2.0L\n",
            "[<class '__main__.Car'>, <class '__main__.Vehicle'>, <class '__main__.Engine'>, <class 'object'>]\n",
            "(<class '__main__.Car'>, <class '__main__.Vehicle'>, <class '__main__.Engine'>, <class 'object'>)\n"
          ]
        }
      ]
    },
    {
      "cell_type": "markdown",
      "source": [
        "# II. Iterator"
      ],
      "metadata": {
        "id": "dIJyUiNBFG8G"
      }
    },
    {
      "cell_type": "markdown",
      "source": [
        "11. (4б). Визначте рядок(str) з 4ма різними за значенням символами. Створіть ітератор на основі цього рядка. Викличте 5 разів функцію next на ітераторі, 4ри перших з них огорніть у ф-цію print()."
      ],
      "metadata": {
        "id": "13vsm0NyKIzL"
      }
    },
    {
      "cell_type": "code",
      "source": [
        "str = 'okay'\n",
        "my_iterator = iter(str)\n",
        "i = 1\n",
        "while i < 5:\n",
        "  print(f'{i} -- {next(my_iterator)}')\n",
        "  i += 1\n",
        "next()"
      ],
      "metadata": {
        "id": "81ntabAkKuz-",
        "colab": {
          "base_uri": "https://localhost:8080/",
          "height": 241
        },
        "outputId": "99107d0d-c9f7-4383-926d-c8691be23a54"
      },
      "execution_count": null,
      "outputs": [
        {
          "output_type": "stream",
          "name": "stdout",
          "text": [
            "1 -- o\n",
            "2 -- k\n",
            "3 -- a\n",
            "4 -- y\n"
          ]
        },
        {
          "output_type": "error",
          "ename": "TypeError",
          "evalue": "next expected at least 1 argument, got 0",
          "traceback": [
            "\u001b[0;31m---------------------------------------------------------------------------\u001b[0m",
            "\u001b[0;31mTypeError\u001b[0m                                 Traceback (most recent call last)",
            "\u001b[0;32m<ipython-input-4-dbb8f55aaa89>\u001b[0m in \u001b[0;36m<cell line: 0>\u001b[0;34m()\u001b[0m\n\u001b[1;32m      5\u001b[0m   \u001b[0mprint\u001b[0m\u001b[0;34m(\u001b[0m\u001b[0;34mf'{i} -- {next(my_iterator)}'\u001b[0m\u001b[0;34m)\u001b[0m\u001b[0;34m\u001b[0m\u001b[0;34m\u001b[0m\u001b[0m\n\u001b[1;32m      6\u001b[0m   \u001b[0mi\u001b[0m \u001b[0;34m+=\u001b[0m \u001b[0;36m1\u001b[0m\u001b[0;34m\u001b[0m\u001b[0;34m\u001b[0m\u001b[0m\n\u001b[0;32m----> 7\u001b[0;31m \u001b[0mnext\u001b[0m\u001b[0;34m(\u001b[0m\u001b[0;34m)\u001b[0m\u001b[0;34m\u001b[0m\u001b[0;34m\u001b[0m\u001b[0m\n\u001b[0m",
            "\u001b[0;31mTypeError\u001b[0m: next expected at least 1 argument, got 0"
          ]
        }
      ]
    },
    {
      "cell_type": "markdown",
      "source": [
        "А що якщо викликати цю ж функцію на рядку?"
      ],
      "metadata": {
        "id": "aekWHGXOLRsO"
      }
    },
    {
      "cell_type": "code",
      "source": [
        "next(str)"
      ],
      "metadata": {
        "id": "mxATGsErLV1i",
        "colab": {
          "base_uri": "https://localhost:8080/",
          "height": 173
        },
        "outputId": "618e7e84-4fd0-4bc9-8b20-c901f9f38444"
      },
      "execution_count": null,
      "outputs": [
        {
          "output_type": "error",
          "ename": "TypeError",
          "evalue": "'str' object is not an iterator",
          "traceback": [
            "\u001b[0;31m---------------------------------------------------------------------------\u001b[0m",
            "\u001b[0;31mTypeError\u001b[0m                                 Traceback (most recent call last)",
            "\u001b[0;32m<ipython-input-13-f4dbfcfae5e2>\u001b[0m in \u001b[0;36m<cell line: 0>\u001b[0;34m()\u001b[0m\n\u001b[0;32m----> 1\u001b[0;31m \u001b[0mnext\u001b[0m\u001b[0;34m(\u001b[0m\u001b[0mstr\u001b[0m\u001b[0;34m)\u001b[0m\u001b[0;34m\u001b[0m\u001b[0;34m\u001b[0m\u001b[0m\n\u001b[0m",
            "\u001b[0;31mTypeError\u001b[0m: 'str' object is not an iterator"
          ]
        }
      ]
    },
    {
      "cell_type": "markdown",
      "source": [
        " 12. (5б). Опишіть своїми словами в одному реченні, як ви розумієте різницю між ітерабельними обʼєктами та ітераторами (можна на прикладі)."
      ],
      "metadata": {
        "id": "XwtMEopwJ4pH"
      }
    },
    {
      "cell_type": "markdown",
      "source": [
        "Ітерабельні об'єкти - це колекції даних, через які можна ітеруватися, наприклад списки, кортежі, рядки. Ітератори - об'єкти, які дозволяють ітерувати через елементи ітерабельного об'єкта. (Приклад: ітерабельний об'єкт - це аудиторія студентів, а ітератор - це викладач, який проходиться по кожному студенту і виставляє йому оцінку, наприклад).\n",
        "\n"
      ],
      "metadata": {
        "id": "-sHrODc3KFn8"
      }
    },
    {
      "cell_type": "markdown",
      "source": [
        "13. (11б). Створіть клас, що має визначений Iterator Protocol та при кожному виклику next повертає назву дня тижня, поки вони не вичерпаються. Зверніть увагу, що порядок має значення."
      ],
      "metadata": {
        "id": "E9qJWmNbK8Gl"
      }
    },
    {
      "cell_type": "code",
      "source": [
        "class WeekdayIterator:\n",
        "    def __init__(self):\n",
        "        self.days = [\"Monday\", \"Tuesday\", \"Wednesday\", \"Thursday\", \"Friday\", \"Saturday\", \"Sunday\"]\n",
        "        self.index = 0\n",
        "\n",
        "    def __iter__(self):\n",
        "        return self\n",
        "\n",
        "    def __next__(self):\n",
        "        if self.index >= len(self.days):\n",
        "            raise StopIteration\n",
        "        day = self.days[self.index]\n",
        "        self.index += 1\n",
        "        return day\n",
        "\n",
        "weekdays = WeekdayIterator()\n",
        "for day in weekdays:\n",
        "    print(day)"
      ],
      "metadata": {
        "id": "cqx-g_RsLo6I",
        "colab": {
          "base_uri": "https://localhost:8080/"
        },
        "outputId": "002f72c6-aad6-48f2-f4d8-49adf3f53954"
      },
      "execution_count": null,
      "outputs": [
        {
          "output_type": "stream",
          "name": "stdout",
          "text": [
            "Monday\n",
            "Tuesday\n",
            "Wednesday\n",
            "Thursday\n",
            "Friday\n",
            "Saturday\n",
            "Sunday\n"
          ]
        }
      ]
    },
    {
      "cell_type": "markdown",
      "source": [
        "# Вітаю! Ви велика(ий) молодець, що впоралась(вся). Похваліть себе та побалуйте чимось приємним. Я Вами пишаюся."
      ],
      "metadata": {
        "id": "Z3E3S_s1Fv7-"
      }
    }
  ]
}